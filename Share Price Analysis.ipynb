{
 "cells": [
  {
   "cell_type": "markdown",
   "metadata": {},
   "source": [
    "### Import necessary packages"
   ]
  },
  {
   "cell_type": "code",
   "execution_count": 46,
   "metadata": {},
   "outputs": [],
   "source": [
    "# Install required packages here if needed (remove '#')\n",
    "#!pip3 install pandas\n",
    "#!pip3 install pandas_datareader\n",
    "#!pip3 install datetime\n",
    "#!pip3 install yfinance\n",
    "#!pip3 install getFamaFrenchFactors\n",
    "#!pip3 install git+https://github.com/statsmodels/statsmodels\n",
    "#!pip3 install scipy"
   ]
  },
  {
   "cell_type": "markdown",
   "metadata": {},
   "source": [
    "### Functions to import price data"
   ]
  },
  {
   "cell_type": "code",
   "execution_count": 47,
   "metadata": {},
   "outputs": [],
   "source": [
    "import pandas as pd\n",
    "import pandas_datareader as web\n",
    "import datetime"
   ]
  },
  {
   "cell_type": "code",
   "execution_count": 48,
   "metadata": {},
   "outputs": [],
   "source": [
    "def read_price_data(stock_symbol, start_date, end_date, interval):\n",
    "    \"\"\"Import price data from Yahoo Finance\"\"\"\n",
    "    try:\n",
    "        stock_data = web.get_data_yahoo(stock_symbol, start_date, end_date, interval=interval)\n",
    "    except:\n",
    "        return None\n",
    "\n",
    "    prices = stock_data.loc[:, \"Adj Close\"]\n",
    "    prices = prices.fillna(method=\"ffill\")\n",
    "\n",
    "    return prices"
   ]
  },
  {
   "cell_type": "code",
   "execution_count": 49,
   "metadata": {},
   "outputs": [],
   "source": [
    "def get_date_list(stock_symbol, start_date, end_date, interval):\n",
    "    \"\"\"Generate list of trading dates\"\"\"\n",
    "    stock_data = web.get_data_yahoo(stock_symbol, start_date, end_date, interval=interval)\n",
    "    dates = stock_data.index\n",
    "    \n",
    "    return dates"
   ]
  },
  {
   "cell_type": "markdown",
   "metadata": {},
   "source": [
    "### Generate input table"
   ]
  },
  {
   "cell_type": "markdown",
   "metadata": {},
   "source": [
    "### Example of mathematical notation using LaTeX syntax\n",
    "CAPM: $\\mathbb{E}(R_i)=R_f+\\beta_i (\\mathbb{E}(R_m)-R_f)$ "
   ]
  },
  {
   "cell_type": "code",
   "execution_count": 50,
   "metadata": {},
   "outputs": [
    {
     "name": "stdout",
     "output_type": "stream",
     "text": [
      "Enter stock symbol: MSFT\n",
      "interval is monthly\n",
      "enter startdate according to the following pattern year-month-day2021-09-01\n",
      "enter enddate according to the following pattern year-month-day2022-09-01\n",
      "Date\n",
      "2022-09-01    245.380005\n",
      "2022-08-01    260.916168\n",
      "2022-07-01    280.145355\n",
      "2022-06-01    256.285980\n",
      "2022-05-01    270.663727\n",
      "2022-04-01    276.288666\n",
      "2022-03-01    306.942047\n",
      "2022-02-01    296.850494\n",
      "2022-01-01    308.961395\n",
      "2021-12-01    334.136932\n",
      "2021-11-01    327.844299\n",
      "2021-10-01    328.865723\n",
      "2021-09-01    279.578522\n",
      "Name: Stock price (MSFT), dtype: float64\n",
      "Date\n",
      "2022-09-01    3901.350098\n",
      "2022-08-01    3955.000000\n",
      "2022-07-01    4130.290039\n",
      "2022-06-01    3785.379883\n",
      "2022-05-01    4132.149902\n",
      "2022-04-01    4131.930176\n",
      "2022-03-01    4530.410156\n",
      "2022-02-01    4373.939941\n",
      "2022-01-01    4515.549805\n",
      "2021-12-01    4766.180176\n",
      "2021-11-01    4567.000000\n",
      "2021-10-01    4605.379883\n",
      "2021-09-01    4307.540039\n",
      "Name: Index price (^GSPC), dtype: float64\n",
      "return stock :  0.13936961514869764\n",
      "return index :  0.10411522453477581\n",
      "beta for  MSFT  :  0.942868\n",
      "[*********************100%***********************]  1 of 1 completed\n",
      "rf  0.00018181818181818183\n",
      " Capm for  MSFT  :  0.09817730116301865\n",
      "R^2 for  MSFT  :  0.9313809799411253\n"
     ]
    },
    {
     "data": {
      "image/png": "[encoded data removed]",
      "text/plain": [
       "<Figure size 432x288 with 1 Axes>"
      ]
     },
     "metadata": {
      "needs_background": "light"
     },
     "output_type": "display_data"
    }
   ],
   "source": [
    "import yfinance as yh\n",
    "import matplotlib.pyplot as plt\n",
    "import getFamaFrenchFactors as gff\n",
    "from scipy.stats import pearsonr\n",
    "from datetime import datetime\n",
    "\n",
    "#CHOOSE STOCK AND INDEX\n",
    "stock = input(\"Enter stock symbol: \")\n",
    "#DEFAULT INDEX SP500 = ticker ^GSPC\n",
    "index_symbol = \"^GSPC\"\n",
    "\n",
    "#!!CHOOSE DATES\n",
    "print(\"interval is monthly\")\n",
    "startDate = input(\"enter startdate according to the following pattern year-month-day\")\n",
    "endDate = input(\"enter enddate according to the following pattern year-month-day\")\n",
    "\n",
    "start_date = datetime.strptime(startDate, '%Y-%m-%d').date()\n",
    "end_date = datetime.strptime(endDate, '%Y-%m-%d').date()\n",
    "\n",
    "\n",
    "interval = 'm' # Date interval, by default daily ('d')\n",
    "date_list = get_date_list(index_symbol, start_date, end_date, interval=interval)\n",
    "\n",
    "# Generate empty dataframe\n",
    "column_header_index = \"Index price ({})\".format(index_symbol)\n",
    "column_header_stock = \"Stock price ({})\".format(stock)\n",
    "df = pd.DataFrame(\n",
    "        columns=[column_header_index, column_header_stock], index=date_list\n",
    "    )\n",
    "\n",
    "# Sort dataframe based on date\n",
    "df = df.sort_index(ascending=False)  \n",
    "\n",
    "# Import price series into dataframe\n",
    "try:\n",
    "    price_series = read_price_data(index_symbol, start_date, end_date, interval=interval)\n",
    "    df[column_header_index] = price_series\n",
    "    \n",
    "    price_series = read_price_data(stock, start_date, end_date, interval=interval)\n",
    "    df[column_header_stock] = price_series  \n",
    "except:\n",
    "    print('Import failed')\n",
    "\n",
    "# Print dataframe\n",
    "print(df[column_header_stock])\n",
    "print(df[column_header_index])\n",
    "#calculate average return over period for the ticker\n",
    "firstValueStock = df[column_header_stock].iloc[0]\n",
    "lastValueStock = df[column_header_stock].iloc[-1]\n",
    "returnTicker = (lastValueStock - firstValueStock)/firstValueStock\n",
    "print(\"return stock : \", returnTicker)\n",
    "\n",
    "#calculate average return over period for the index\n",
    "firstValueIndex = df[column_header_index].iloc[0]\n",
    "lastValueIndex = df[column_header_index].iloc[-1]\n",
    "returnIndex = (lastValueIndex - firstValueIndex)/firstValueIndex\n",
    "print(\"return index : \", returnIndex)\n",
    "\n",
    "#get beta of the respective ticker\n",
    "dataTicker = yh.Ticker(stock)\n",
    "beta = dataTicker.info['beta']\n",
    "print(\"beta for \", stock, \" : \", beta)\n",
    "\n",
    "#now calculate risk free rate\n",
    "#we calculate the risk free rate by using the Fama French three factor model's inplementation in python\n",
    "\n",
    "dataCompany = yh.download(stock, start=startDate,end= endDate);\n",
    "\n",
    "stockPrices = dataCompany['Adj Close'];\n",
    "stockPrices = stockPrices.resample(\"1M\").last();\n",
    "assetReturn = stockPrices.pct_change();\n",
    "assetReturn = assetReturn.dropna();\n",
    "assetReturn.name = \"Asset\";\n",
    "\n",
    "ff3_monthly = pd.DataFrame(gff.famaFrench3Factor(frequency='m'))\n",
    "ff3_monthly.rename(columns={\"date_ff_factors\": 'Date'}, inplace=True)\n",
    "ff3_monthly.set_index('Date', inplace=True)\n",
    "ff_data = ff3_monthly.merge(assetReturn, on='Date')\n",
    "rf = ff_data['RF'].mean()\n",
    "print(\"rf \",rf)\n",
    "\n",
    "#calculate the capm\n",
    "capm = rf + (beta * (returnIndex - rf))\n",
    "#ouput the calculated capm\n",
    "print(\" Capm for \", stock ,\" : \" ,capm)\n",
    "#calcualte and output R2\n",
    "corr, _ = pearsonr(df[column_header_index], df[column_header_stock])\n",
    "RSquared = corr * corr;\n",
    "print(\"R^2 for \", stock, \" : \" , RSquared)\n",
    "#output scatterplot\n",
    "\n",
    "x=df[column_header_index]\n",
    "y=df[column_header_stock]\n",
    "plt.scatter(x, y, marker='o')\n",
    "plt.xlabel('Index')\n",
    "plt.ylabel(stock)\n",
    "plt.show()"
   ]
  },
  {
   "cell_type": "code",
   "execution_count": null,
   "metadata": {},
   "outputs": [],
   "source": []
  }
 ],
 "metadata": {
  "kernelspec": {
   "display_name": "Python 3 (ipykernel)",
   "language": "python",
   "name": "python3"
  },
  "language_info": {
   "codemirror_mode": {
    "name": "ipython",
    "version": 3
   },
   "file_extension": ".py",
   "mimetype": "text/x-python",
   "name": "python",
   "nbconvert_exporter": "python",
   "pygments_lexer": "ipython3",
   "version": "3.9.12"
  }
 },
 "nbformat": 4,
 "nbformat_minor": 4
}
